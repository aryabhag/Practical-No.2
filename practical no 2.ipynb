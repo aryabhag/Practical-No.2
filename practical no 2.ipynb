{
  "nbformat": 4,
  "nbformat_minor": 0,
  "metadata": {
    "colab": {
      "name": "Untitled0.ipynb",
      "provenance": []
    },
    "kernelspec": {
      "name": "python3",
      "display_name": "Python 3"
    },
    "language_info": {
      "name": "python"
    }
  },
  "cells": [
    {
      "cell_type": "markdown",
      "source": [
        "Aryan B. Jadhav\n",
        "Practical NO:2:Different Types Of Data Types\n"
      ],
      "metadata": {
        "id": "AvvRhl0odD4V"
      }
    },
    {
      "cell_type": "code",
      "execution_count": 6,
      "metadata": {
        "colab": {
          "base_uri": "https://localhost:8080/"
        },
        "id": "mndD21UzaAkF",
        "outputId": "75993101-97b2-4d74-fd02-bcb218713742"
      },
      "outputs": [
        {
          "output_type": "stream",
          "name": "stdout",
          "text": [
            "Hello World\n",
            "<class 'str'>\n",
            "['apple', 'banana', 'cherry']\n",
            "<class 'list'>\n",
            "20.5\n",
            "<class 'float'>\n",
            "['apple', 'banana', 'cherry']\n",
            "<class 'list'>\n"
          ]
        }
      ],
      "source": [
        "a = \"Hello World\"\n",
        "\n",
        "#display a:\n",
        "print(a)\n",
        "\n",
        "#display the data type of a:\n",
        "print(type(a)) \n",
        "a = 20\n",
        "\n",
        "#display x:\n",
        "print(x)\n",
        "\n",
        "#display the data type of x:\n",
        "print(type(x)) \n",
        "x = 20.5\n",
        "\n",
        "#display x:\n",
        "print(x)\n",
        "\n",
        "#display the data type of x:\n",
        "print(type(x)) \n",
        "x = [\"apple\", \"banana\", \"cherry\"]\n",
        "\n",
        "#display x:\n",
        "print(x)\n",
        "\n",
        "#display the data type of x:\n",
        "print(type(x)) "
      ]
    },
    {
      "cell_type": "markdown",
      "source": [
        ""
      ],
      "metadata": {
        "id": "umk3Pmzuc7de"
      }
    },
    {
      "cell_type": "markdown",
      "source": [
        ""
      ],
      "metadata": {
        "id": "g1OyROqTc5Gf"
      }
    }
  ]
}